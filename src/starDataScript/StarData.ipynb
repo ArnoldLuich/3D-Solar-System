{
  "nbformat": 4,
  "nbformat_minor": 0,
  "metadata": {
    "colab": {
      "provenance": []
    },
    "kernelspec": {
      "name": "python3",
      "display_name": "Python 3"
    },
    "language_info": {
      "name": "python"
    }
  },
  "cells": [
    {
      "cell_type": "code",
      "source": [
        "!pip install astroplan\n",
        "!pip install astroquery==0.4.6"
      ],
      "metadata": {
        "colab": {
          "base_uri": "https://localhost:8080/"
        },
        "id": "4QbKcv6EplwQ",
        "outputId": "056541c5-812b-454d-e85b-194dc7f4394b"
      },
      "execution_count": null,
      "outputs": [
        {
          "output_type": "stream",
          "name": "stdout",
          "text": [
            "Collecting astroplan\n",
            "  Downloading astroplan-0.10.1.tar.gz (140 kB)\n",
            "\u001b[?25l     \u001b[90m━━━━━━━━━━━━━━━━━━━━━━━━━━━━━━━━━━━━━━━━\u001b[0m \u001b[32m0.0/140.6 kB\u001b[0m \u001b[31m?\u001b[0m eta \u001b[36m-:--:--\u001b[0m\r\u001b[2K     \u001b[91m━━━━━━━━━━━━━━━━━━━━━━━━━━━━━━━━━━━━━\u001b[0m\u001b[91m╸\u001b[0m\u001b[90m━━\u001b[0m \u001b[32m133.1/140.6 kB\u001b[0m \u001b[31m4.7 MB/s\u001b[0m eta \u001b[36m0:00:01\u001b[0m\r\u001b[2K     \u001b[90m━━━━━━━━━━━━━━━━━━━━━━━━━━━━━━━━━━━━━━━━\u001b[0m \u001b[32m140.6/140.6 kB\u001b[0m \u001b[31m3.5 MB/s\u001b[0m eta \u001b[36m0:00:00\u001b[0m\n",
            "\u001b[?25h  Installing build dependencies ... \u001b[?25l\u001b[?25hdone\n",
            "  Getting requirements to build wheel ... \u001b[?25l\u001b[?25hdone\n",
            "  Preparing metadata (pyproject.toml) ... \u001b[?25l\u001b[?25hdone\n",
            "Requirement already satisfied: numpy>=1.17 in /usr/local/lib/python3.10/dist-packages (from astroplan) (1.26.4)\n",
            "Requirement already satisfied: astropy>=4 in /usr/local/lib/python3.10/dist-packages (from astroplan) (6.1.7)\n",
            "Requirement already satisfied: pytz in /usr/local/lib/python3.10/dist-packages (from astroplan) (2024.2)\n",
            "Requirement already satisfied: six in /usr/local/lib/python3.10/dist-packages (from astroplan) (1.16.0)\n",
            "Requirement already satisfied: pyerfa>=2.0.1.1 in /usr/local/lib/python3.10/dist-packages (from astropy>=4->astroplan) (2.0.1.5)\n",
            "Requirement already satisfied: astropy-iers-data>=0.2024.10.28.0.34.7 in /usr/local/lib/python3.10/dist-packages (from astropy>=4->astroplan) (0.2024.12.2.0.35.34)\n",
            "Requirement already satisfied: PyYAML>=3.13 in /usr/local/lib/python3.10/dist-packages (from astropy>=4->astroplan) (6.0.2)\n",
            "Requirement already satisfied: packaging>=19.0 in /usr/local/lib/python3.10/dist-packages (from astropy>=4->astroplan) (24.2)\n",
            "Building wheels for collected packages: astroplan\n",
            "  Building wheel for astroplan (pyproject.toml) ... \u001b[?25l\u001b[?25hdone\n",
            "  Created wheel for astroplan: filename=astroplan-0.10.1-py3-none-any.whl size=83859 sha256=a1e9e8b92522fb46cb480753d14d40aefde156d05854f44e14b3a0cae3c45258\n",
            "  Stored in directory: /root/.cache/pip/wheels/6f/0a/f0/4d09ef27782f80ed6ef5ddb8bbca2bea39323819e575b91e9d\n",
            "Successfully built astroplan\n",
            "Installing collected packages: astroplan\n",
            "Successfully installed astroplan-0.10.1\n",
            "Collecting astroquery==0.4.6\n",
            "  Downloading astroquery-0.4.6-py3-none-any.whl.metadata (1.1 kB)\n",
            "Requirement already satisfied: numpy>=1.16 in /usr/local/lib/python3.10/dist-packages (from astroquery==0.4.6) (1.26.4)\n",
            "Requirement already satisfied: astropy>=4.0 in /usr/local/lib/python3.10/dist-packages (from astroquery==0.4.6) (6.1.7)\n",
            "Requirement already satisfied: requests>=2.4.3 in /usr/local/lib/python3.10/dist-packages (from astroquery==0.4.6) (2.32.3)\n",
            "Requirement already satisfied: beautifulsoup4>=4.3.2 in /usr/local/lib/python3.10/dist-packages (from astroquery==0.4.6) (4.12.3)\n",
            "Requirement already satisfied: html5lib>=0.999 in /usr/local/lib/python3.10/dist-packages (from astroquery==0.4.6) (1.1)\n",
            "Requirement already satisfied: keyring>=4.0 in /usr/lib/python3/dist-packages (from astroquery==0.4.6) (23.5.0)\n",
            "Collecting pyvo>=1.1 (from astroquery==0.4.6)\n",
            "  Downloading pyvo-1.6-py3-none-any.whl.metadata (4.8 kB)\n",
            "Requirement already satisfied: pyerfa>=2.0.1.1 in /usr/local/lib/python3.10/dist-packages (from astropy>=4.0->astroquery==0.4.6) (2.0.1.5)\n",
            "Requirement already satisfied: astropy-iers-data>=0.2024.10.28.0.34.7 in /usr/local/lib/python3.10/dist-packages (from astropy>=4.0->astroquery==0.4.6) (0.2024.12.2.0.35.34)\n",
            "Requirement already satisfied: PyYAML>=3.13 in /usr/local/lib/python3.10/dist-packages (from astropy>=4.0->astroquery==0.4.6) (6.0.2)\n",
            "Requirement already satisfied: packaging>=19.0 in /usr/local/lib/python3.10/dist-packages (from astropy>=4.0->astroquery==0.4.6) (24.2)\n",
            "Requirement already satisfied: soupsieve>1.2 in /usr/local/lib/python3.10/dist-packages (from beautifulsoup4>=4.3.2->astroquery==0.4.6) (2.6)\n",
            "Requirement already satisfied: six>=1.9 in /usr/local/lib/python3.10/dist-packages (from html5lib>=0.999->astroquery==0.4.6) (1.16.0)\n",
            "Requirement already satisfied: webencodings in /usr/local/lib/python3.10/dist-packages (from html5lib>=0.999->astroquery==0.4.6) (0.5.1)\n",
            "Requirement already satisfied: charset-normalizer<4,>=2 in /usr/local/lib/python3.10/dist-packages (from requests>=2.4.3->astroquery==0.4.6) (3.4.0)\n",
            "Requirement already satisfied: idna<4,>=2.5 in /usr/local/lib/python3.10/dist-packages (from requests>=2.4.3->astroquery==0.4.6) (3.10)\n",
            "Requirement already satisfied: urllib3<3,>=1.21.1 in /usr/local/lib/python3.10/dist-packages (from requests>=2.4.3->astroquery==0.4.6) (2.2.3)\n",
            "Requirement already satisfied: certifi>=2017.4.17 in /usr/local/lib/python3.10/dist-packages (from requests>=2.4.3->astroquery==0.4.6) (2024.8.30)\n",
            "Downloading astroquery-0.4.6-py3-none-any.whl (4.5 MB)\n",
            "\u001b[2K   \u001b[90m━━━━━━━━━━━━━━━━━━━━━━━━━━━━━━━━━━━━━━━━\u001b[0m \u001b[32m4.5/4.5 MB\u001b[0m \u001b[31m5.3 MB/s\u001b[0m eta \u001b[36m0:00:00\u001b[0m\n",
            "\u001b[?25hDownloading pyvo-1.6-py3-none-any.whl (994 kB)\n",
            "\u001b[2K   \u001b[90m━━━━━━━━━━━━━━━━━━━━━━━━━━━━━━━━━━━━━━━━\u001b[0m \u001b[32m994.8/994.8 kB\u001b[0m \u001b[31m49.1 MB/s\u001b[0m eta \u001b[36m0:00:00\u001b[0m\n",
            "\u001b[?25hInstalling collected packages: pyvo, astroquery\n",
            "Successfully installed astroquery-0.4.6 pyvo-1.6\n"
          ]
        }
      ]
    },
    {
      "cell_type": "code",
      "source": [
        "from astroquery.vizier import Vizier\n",
        "import pandas as pd\n",
        "import json\n",
        "from google.colab import files\n",
        "\n",
        "# Set row limit to 1000 to get a larger batch of stars\n",
        "Vizier.ROW_LIMIT = 3000\n",
        "\n",
        "# Query Gaia catalog for stars with basic data (RA, Dec, Magnitude)\n",
        "result = Vizier.query_constraints(\n",
        "    catalog=\"I/345/gaia2\",  # Gaia DR2 catalog\n",
        "    Gmag=\"<5\"  # Filter for bright stars (G magnitude < 5)\n",
        ")\n",
        "\n",
        "# Fetch the result table\n",
        "if result:\n",
        "    stars = result[0]  # First table\n",
        "    # Convert the table to a Pandas DataFrame for easy processing\n",
        "    df = stars.to_pandas()\n",
        "\n",
        "    # Extracting specific columns based on the actual column names\n",
        "    df = df[[\"RA_ICRS\", \"DE_ICRS\", \"Gmag\"]]  # Use correct column names\n",
        "\n",
        "    # Renaming the columns for readability\n",
        "    df.columns = [\"ra\", \"dec\", \"magnitude\"]\n",
        "\n",
        "    # Select the first 100 stars for processing\n",
        "    df = df.head(3000)\n",
        "\n",
        "    # Convert the dataframe to a list of dictionaries (for JSON output)\n",
        "    star_data = df.to_dict(orient=\"records\")\n",
        "\n",
        "    # Write the data to a JSON file\n",
        "    output_filename = \"/content/star_data.json\"\n",
        "    with open(output_filename, \"w\") as json_file:\n",
        "        json.dump(star_data, json_file, indent=4)\n",
        "\n",
        "    print(\"JSON file has been created successfully.\")\n",
        "\n",
        "\n",
        "    files.download(output_filename)\n",
        "\n",
        "else:\n",
        "    print(\"No results found.\")\n",
        "\n",
        "\n"
      ],
      "metadata": {
        "colab": {
          "base_uri": "https://localhost:8080/",
          "height": 34
        },
        "id": "-SiZ_NVvgDG3",
        "outputId": "f853f80d-30b2-402c-e0a4-595f1fce39af"
      },
      "execution_count": null,
      "outputs": [
        {
          "output_type": "stream",
          "name": "stdout",
          "text": [
            "JSON file has been created successfully.\n"
          ]
        },
        {
          "output_type": "display_data",
          "data": {
            "text/plain": [
              "<IPython.core.display.Javascript object>"
            ],
            "application/javascript": [
              "\n",
              "    async function download(id, filename, size) {\n",
              "      if (!google.colab.kernel.accessAllowed) {\n",
              "        return;\n",
              "      }\n",
              "      const div = document.createElement('div');\n",
              "      const label = document.createElement('label');\n",
              "      label.textContent = `Downloading \"${filename}\": `;\n",
              "      div.appendChild(label);\n",
              "      const progress = document.createElement('progress');\n",
              "      progress.max = size;\n",
              "      div.appendChild(progress);\n",
              "      document.body.appendChild(div);\n",
              "\n",
              "      const buffers = [];\n",
              "      let downloaded = 0;\n",
              "\n",
              "      const channel = await google.colab.kernel.comms.open(id);\n",
              "      // Send a message to notify the kernel that we're ready.\n",
              "      channel.send({})\n",
              "\n",
              "      for await (const message of channel.messages) {\n",
              "        // Send a message to notify the kernel that we're ready.\n",
              "        channel.send({})\n",
              "        if (message.buffers) {\n",
              "          for (const buffer of message.buffers) {\n",
              "            buffers.push(buffer);\n",
              "            downloaded += buffer.byteLength;\n",
              "            progress.value = downloaded;\n",
              "          }\n",
              "        }\n",
              "      }\n",
              "      const blob = new Blob(buffers, {type: 'application/binary'});\n",
              "      const a = document.createElement('a');\n",
              "      a.href = window.URL.createObjectURL(blob);\n",
              "      a.download = filename;\n",
              "      div.appendChild(a);\n",
              "      a.click();\n",
              "      div.remove();\n",
              "    }\n",
              "  "
            ]
          },
          "metadata": {}
        },
        {
          "output_type": "display_data",
          "data": {
            "text/plain": [
              "<IPython.core.display.Javascript object>"
            ],
            "application/javascript": [
              "download(\"download_a5c20847-63aa-40cb-9397-a0e0baa850db\", \"star_data.json\", 223936)"
            ]
          },
          "metadata": {}
        }
      ]
    }
  ]
}